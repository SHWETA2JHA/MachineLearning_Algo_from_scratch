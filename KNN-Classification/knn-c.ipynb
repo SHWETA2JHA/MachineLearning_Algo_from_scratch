{
 "cells": [
  {
   "cell_type": "code",
   "execution_count": 2,
   "id": "6d635997",
   "metadata": {},
   "outputs": [
    {
     "name": "stdout",
     "output_type": "stream",
     "text": [
      "Accuracy: 0.6229508196721312\n"
     ]
    }
   ],
   "source": [
    "import pandas as pd\n",
    "import numpy as np\n",
    "from collections import Counter\n",
    "\n",
    "# Load the dataset\n",
    "data = pd.read_csv('heart_disease_dataset.csv')\n",
    "data = (data - data.mean()) / data.std()\n",
    "# Split the data into features (X) and target (y)\n",
    "X = data.iloc[:, :-1].values\n",
    "y = data.iloc[:, -1].values\n",
    "\n",
    "# Define the KNN function\n",
    "def knn(X_train, y_train, X_test, k):\n",
    "    \"\"\"\n",
    "    X_train: numpy array, training features\n",
    "    y_train: numpy array, training targets\n",
    "    X_test: numpy array, test features\n",
    "    k: int, number of neighbors to consider\n",
    "    \"\"\"\n",
    "    # Calculate the distances between each test point and all training points\n",
    "    distances = np.sqrt(np.sum((X_train - X_test)**2, axis=1))\n",
    "\n",
    "    # Get the indices of the k nearest neighbors\n",
    "    k_nearest_indices = np.argsort(distances)[:k]\n",
    "\n",
    "    # Get the labels of the k nearest neighbors\n",
    "    k_nearest_labels = y_train[k_nearest_indices]\n",
    "\n",
    "    # Find the most common label among the k nearest neighbors\n",
    "    most_common_label = Counter(k_nearest_labels).most_common(1)[0][0]\n",
    "\n",
    "    return most_common_label\n",
    "\n",
    "# Split the data into training and test sets\n",
    "train_size = int(len(X) * 0.8)\n",
    "X_train = X[:train_size]\n",
    "y_train = y[:train_size]\n",
    "X_test = X[train_size:]\n",
    "y_test = y[train_size:]\n",
    "\n",
    "# Use KNN to predict the target values for the test set\n",
    "predictions = []\n",
    "k = 5\n",
    "for i in range(len(X_test)):\n",
    "    prediction = knn(X_train, y_train, X_test[i], k)\n",
    "    predictions.append(prediction)\n",
    "    #print(prediction)\n",
    "\n",
    "# Calculate the accuracy of the model\n",
    "accuracy = np.mean(predictions == y_test)\n",
    "print(\"Accuracy:\", accuracy)\n"
   ]
  },
  {
   "cell_type": "code",
   "execution_count": null,
   "id": "a268b3da",
   "metadata": {},
   "outputs": [],
   "source": []
  }
 ],
 "metadata": {
  "kernelspec": {
   "display_name": "Python 3 (ipykernel)",
   "language": "python",
   "name": "python3"
  },
  "language_info": {
   "codemirror_mode": {
    "name": "ipython",
    "version": 3
   },
   "file_extension": ".py",
   "mimetype": "text/x-python",
   "name": "python",
   "nbconvert_exporter": "python",
   "pygments_lexer": "ipython3",
   "version": "3.9.13"
  }
 },
 "nbformat": 4,
 "nbformat_minor": 5
}
