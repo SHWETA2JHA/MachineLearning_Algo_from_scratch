{
 "cells": [
  {
   "cell_type": "code",
   "execution_count": 8,
   "id": "8e3ad656",
   "metadata": {},
   "outputs": [
    {
     "name": "stdout",
     "output_type": "stream",
     "text": [
      "Mean Squared Error: 0.6756290423667703\n"
     ]
    }
   ],
   "source": [
    "import pandas as pd\n",
    "import numpy as np\n",
    "\n",
    "# Load the dataset\n",
    "data = pd.read_csv('HousingData.csv')\n",
    "data = (data - data.mean()) / data.std()\n",
    "# Split the data into features (X) and target (y)\n",
    "X = data.iloc[:, :-1].values\n",
    "y = data.iloc[:, -1].values\n",
    "\n",
    "# Define the KNN function\n",
    "def knn(X_train, y_train, X_test, k):\n",
    "    \"\"\"\n",
    "    X_train: numpy array, training features\n",
    "    y_train: numpy array, training targets\n",
    "    X_test: numpy array, test features\n",
    "    k: int, number of neighbors to consider\n",
    "    \"\"\"\n",
    "    # Calculate the distances between each test point and all training points\n",
    "    distances = np.sqrt(np.sum((X_train - X_test)**2, axis=1))\n",
    "\n",
    "    # Get the indices of the k nearest neighbors\n",
    "    k_nearest_indices = np.argsort(distances)[:k]\n",
    "\n",
    "    # Get the labels of the k nearest neighbors\n",
    "    k_nearest_targets = y_train[k_nearest_indices]\n",
    "\n",
    "    # Calculate the mean of the k nearest targets\n",
    "    mean_target = np.mean(k_nearest_targets)\n",
    "\n",
    "    return mean_target\n",
    "\n",
    "# Split the data into training and test sets\n",
    "train_size = int(len(X) * 0.8)\n",
    "X_train = X[:train_size]\n",
    "y_train = y[:train_size]\n",
    "X_test = X[train_size:]\n",
    "y_test = y[train_size:]\n",
    "\n",
    "# Use KNN to predict the target values for the test set\n",
    "predictions = []\n",
    "k = 5\n",
    "for i in range(len(X_test)):\n",
    "    prediction = knn(X_train, y_train, X_test[i], k)\n",
    "    predictions.append(prediction)\n",
    "\n",
    "# Calculate the mean squared error of the model\n",
    "mse = np.mean((predictions - y_test)**2)\n",
    "print(\"Mean Squared Error:\", mse)\n"
   ]
  },
  {
   "cell_type": "code",
   "execution_count": null,
   "id": "93d2efba",
   "metadata": {},
   "outputs": [],
   "source": []
  }
 ],
 "metadata": {
  "kernelspec": {
   "display_name": "Python 3 (ipykernel)",
   "language": "python",
   "name": "python3"
  },
  "language_info": {
   "codemirror_mode": {
    "name": "ipython",
    "version": 3
   },
   "file_extension": ".py",
   "mimetype": "text/x-python",
   "name": "python",
   "nbconvert_exporter": "python",
   "pygments_lexer": "ipython3",
   "version": "3.9.13"
  }
 },
 "nbformat": 4,
 "nbformat_minor": 5
}
