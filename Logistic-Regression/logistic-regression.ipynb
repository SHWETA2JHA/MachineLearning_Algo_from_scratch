{
 "cells": [
  {
   "cell_type": "code",
   "execution_count": 4,
   "id": "23e31f19",
   "metadata": {},
   "outputs": [
    {
     "name": "stdout",
     "output_type": "stream",
     "text": [
      "Accuracy: 0.5463585057780167\n"
     ]
    }
   ],
   "source": [
    "import pandas as pd\n",
    "import numpy as np\n",
    "\n",
    "# Load the dataset\n",
    "df = pd.read_csv('heart_disease_dataset.csv')\n",
    "\n",
    "# Split the data into training and testing sets\n",
    "train_df = df.sample(frac=0.8, random_state=1)\n",
    "test_df = df.drop(train_df.index)\n",
    "\n",
    "# Normalize the features using min-max scaling\n",
    "min_vals = train_df.drop(['target'], axis=1).min()\n",
    "max_vals = train_df.drop(['target'], axis=1).max()\n",
    "train_df_norm = (train_df.drop('target', axis=1) - min_vals) / (max_vals - min_vals)\n",
    "train_df_norm = pd.concat([train_df_norm, train_df['target']], axis=1)\n",
    "test_df_norm = (test_df.drop('target', axis=1) - min_vals) / (max_vals - min_vals)\n",
    "test_df_norm = pd.concat([test_df_norm, test_df['target']], axis=1)\n",
    "\n",
    "# Convert the normalized data to NumPy arrays\n",
    "X_train = train_df_norm.drop('target', axis=1).values\n",
    "y_train = train_df_norm['target'].values\n",
    "X_test = test_df_norm.drop('target', axis=1).values\n",
    "y_test = test_df_norm['target'].values\n",
    "\n",
    "# Define the logistic regression model\n",
    "class LogisticRegression:\n",
    "    def __init__(self, learning_rate=0.01, num_iterations=1000):\n",
    "        self.learning_rate = learning_rate\n",
    "        self.num_iterations = num_iterations\n",
    "\n",
    "    def sigmoid(self, z):\n",
    "        return 1 / (1 + np.exp(-z))\n",
    "\n",
    "    def initialize_weights(self, n_features):\n",
    "        self.w = np.zeros((n_features, 1))\n",
    "        self.b = 0\n",
    "\n",
    "    def fit(self, X, y):\n",
    "        n_samples, n_features = X.shape\n",
    "        self.initialize_weights(n_features)\n",
    "\n",
    "        for i in range(self.num_iterations):\n",
    "            # Select a random sample\n",
    "            rand_index = np.random.randint(0, n_samples)\n",
    "            X_i = X[rand_index].reshape(1, n_features)\n",
    "            y_i = y[rand_index]\n",
    "\n",
    "            # Forward propagation\n",
    "            z = np.dot(X_i, self.w) + self.b\n",
    "            y_pred = self.sigmoid(z)\n",
    "\n",
    "            # Backward propagation\n",
    "            dw = (y_pred - y_i) * X_i.T\n",
    "            db = (y_pred - y_i)\n",
    "\n",
    "            # Update weights\n",
    "            self.w -= self.learning_rate * dw\n",
    "            self.b -= self.learning_rate * db\n",
    "\n",
    "    def predict(self, X):\n",
    "        z = np.dot(X, self.w) + self.b\n",
    "        y_pred = self.sigmoid(z)\n",
    "        return (y_pred > 0.5).astype(int)\n",
    "\n",
    "# Train the model\n",
    "model = LogisticRegression()\n",
    "model.fit(X_train, y_train)\n",
    "\n",
    "# Make predictions on the testing set\n",
    "y_pred = model.predict(X_test)\n",
    "\n",
    "# Calculate accuracy\n",
    "accuracy = np.mean(y_pred == y_test)\n",
    "print(\"Accuracy:\", accuracy)\n"
   ]
  },
  {
   "cell_type": "code",
   "execution_count": null,
   "id": "74e4458e",
   "metadata": {},
   "outputs": [],
   "source": []
  }
 ],
 "metadata": {
  "kernelspec": {
   "display_name": "Python 3 (ipykernel)",
   "language": "python",
   "name": "python3"
  },
  "language_info": {
   "codemirror_mode": {
    "name": "ipython",
    "version": 3
   },
   "file_extension": ".py",
   "mimetype": "text/x-python",
   "name": "python",
   "nbconvert_exporter": "python",
   "pygments_lexer": "ipython3",
   "version": "3.9.13"
  }
 },
 "nbformat": 4,
 "nbformat_minor": 5
}
